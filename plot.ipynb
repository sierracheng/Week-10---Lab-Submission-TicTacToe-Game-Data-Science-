{
 "cells": [
  {
   "cell_type": "code",
   "execution_count": 2,
   "metadata": {},
   "outputs": [
    {
     "ename": "ModuleNotFoundError",
     "evalue": "No module named 'pandas'",
     "output_type": "error",
     "traceback": [
      "\u001b[0;31m---------------------------------------------------------------------------\u001b[0m",
      "\u001b[0;31mModuleNotFoundError\u001b[0m                       Traceback (most recent call last)",
      "\u001b[1;32m/Users/maxankoo/Desktop/Assignments/509 Python/Code/OOP/plot.ipynb 单元格 1\u001b[0m line \u001b[0;36m1\n\u001b[0;32m----> <a href='vscode-notebook-cell:/Users/maxankoo/Desktop/Assignments/509%20Python/Code/OOP/plot.ipynb#W0sZmlsZQ%3D%3D?line=0'>1</a>\u001b[0m \u001b[39mimport\u001b[39;00m \u001b[39mpandas\u001b[39;00m \u001b[39mas\u001b[39;00m \u001b[39mpd\u001b[39;00m\n\u001b[1;32m      <a href='vscode-notebook-cell:/Users/maxankoo/Desktop/Assignments/509%20Python/Code/OOP/plot.ipynb#W0sZmlsZQ%3D%3D?line=1'>2</a>\u001b[0m \u001b[39mimport\u001b[39;00m \u001b[39mmatplotlib\u001b[39;00m\u001b[39m.\u001b[39;00m\u001b[39mpyplot\u001b[39;00m \u001b[39mas\u001b[39;00m \u001b[39mplt\u001b[39;00m\n\u001b[1;32m      <a href='vscode-notebook-cell:/Users/maxankoo/Desktop/Assignments/509%20Python/Code/OOP/plot.ipynb#W0sZmlsZQ%3D%3D?line=3'>4</a>\u001b[0m data \u001b[39m=\u001b[39m pd\u001b[39m.\u001b[39mread_csv(\u001b[39m'\u001b[39m\u001b[39mgame_log.csv\u001b[39m\u001b[39m'\u001b[39m)\n",
      "\u001b[0;31mModuleNotFoundError\u001b[0m: No module named 'pandas'"
     ]
    }
   ],
   "source": [
    "import pandas as pd\n",
    "import matplotlib.pyplot as plt\n",
    "\n",
    "data = pd.read_csv('game_log.csv')\n",
    "data.columns = ['Winner', 'Move Count', 'Mode']\n",
    "\n",
    "# Total games played\n",
    "total_games = len(data)\n",
    "\n",
    "# Wins, losses, and draws for each player\n",
    "x_wins = len(data[data['Winner'] == 'X'])\n",
    "o_wins = len(data[data['Winner'] == 'O'])\n",
    "draws = len(data[data['Winner'] == 'draw'])\n",
    "\n",
    "# Average moves per game\n",
    "average_moves = data['Move Count'].mean()\n",
    "\n",
    "# Plot for win/loss/draw distribution\n",
    "plt.figure(figsize=(8, 5))\n",
    "plt.bar(['X Wins', 'O Wins', 'Draws'], [x_wins, o_wins, draws], color=['purple', 'yellow', 'blue'])\n",
    "plt.title('Game Outcomes')\n",
    "plt.ylabel('Number of Games')\n",
    "plt.show()\n",
    "\n",
    "# Plot for move count distribution\n",
    "plt.figure(figsize=(8, 5))\n",
    "plt.hist(data['Move Count'], bins=range(1, 11), color='green', rwidth=0.8)\n",
    "plt.title('Move Count Distribution')\n",
    "plt.xlabel('Number of Moves')\n",
    "plt.ylabel('Number of Games')\n",
    "plt.xticks(range(1, 11))\n",
    "plt.show()\n",
    "\n",
    "# Plot for game mode distribution\n",
    "plt.figure(figsize=(8, 5))\n",
    "plt.hist(data['Mode'], bins=range(1, 4), align='left', color='brown', rwidth=0.8)\n",
    "plt.title('Game Mode Distribution')\n",
    "plt.xlabel('Game Mode')\n",
    "plt.ylabel('Number of Games')\n",
    "plt.xticks(range(1, 3))\n",
    "plt.show()\n",
    "\n",
    "# Display Statistics in a Table\n",
    "print(\"Statistics Table\")\n",
    "stats_table = pd.DataFrame({\n",
    "    \"Statistic\": [\"Total Games\", \"X Wins\", \"O Wins\", \"Draws\", \"Average Moves/Game\"],\n",
    "    \"Value\": [total_games, x_wins, o_wins, draws, round(average_moves, 2)]\n",
    "})\n",
    "print(stats_table)"
   ]
  }
 ],
 "metadata": {
  "kernelspec": {
   "display_name": ".venv",
   "language": "python",
   "name": "python3"
  },
  "language_info": {
   "codemirror_mode": {
    "name": "ipython",
    "version": 3
   },
   "file_extension": ".py",
   "mimetype": "text/x-python",
   "name": "python",
   "nbconvert_exporter": "python",
   "pygments_lexer": "ipython3",
   "version": "3.11.5"
  },
  "orig_nbformat": 4
 },
 "nbformat": 4,
 "nbformat_minor": 2
}
